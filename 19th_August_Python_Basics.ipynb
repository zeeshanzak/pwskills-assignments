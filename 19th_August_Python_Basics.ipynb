{
 "cells": [
  {
   "cell_type": "markdown",
   "id": "a6ac3aaa-0669-4e11-91e0-e884b67a9bd8",
   "metadata": {},
   "source": [
    "Declare two variables, `x` and `y`, and assign them integer values. Swap the\n",
    "values of these variables without using any temporary variable."
   ]
  },
  {
   "cell_type": "code",
   "execution_count": 4,
   "id": "8e338d65-e5c9-4c82-b5c3-039b88cfc1f9",
   "metadata": {},
   "outputs": [
    {
     "name": "stdout",
     "output_type": "stream",
     "text": [
      "30 20\n"
     ]
    }
   ],
   "source": [
    "x = 30\n",
    "y = 20\n",
    "print(x,y)"
   ]
  },
  {
   "cell_type": "code",
   "execution_count": 5,
   "id": "932b5865-669b-486f-aa98-4a093ff6999e",
   "metadata": {},
   "outputs": [
    {
     "name": "stdout",
     "output_type": "stream",
     "text": [
      "20 30\n"
     ]
    }
   ],
   "source": [
    "# swapping values of variables without using third variables\n",
    "x = x + y\n",
    "y = x - y\n",
    "x = x - y\n",
    "print(x,y)"
   ]
  },
  {
   "cell_type": "markdown",
   "id": "7860daef-4a34-4420-a751-318cae529951",
   "metadata": {},
   "source": [
    "Create a program that calculates the area of a rectangle. Take the length and\n",
    "width as inputs from the user and store them in variables. Calculate and\n",
    "display the area."
   ]
  },
  {
   "cell_type": "code",
   "execution_count": 15,
   "id": "4a0a6def-f865-49e7-b9af-dedc5f897d12",
   "metadata": {},
   "outputs": [
    {
     "name": "stdin",
     "output_type": "stream",
     "text": [
      "Enter the length of rectangle: 11\n",
      "Enter the breadth of rectangle: 12\n"
     ]
    }
   ],
   "source": [
    "# taking length and breadth of rectangle as input from user\n",
    "l = int(input(\"Enter the length of rectangle:\"))\n",
    "b = int(input(\"Enter the breadth of rectangle:\"))"
   ]
  },
  {
   "cell_type": "code",
   "execution_count": 16,
   "id": "4e647862-1ed0-45de-b433-01b46163fc76",
   "metadata": {},
   "outputs": [
    {
     "name": "stdout",
     "output_type": "stream",
     "text": [
      "132\n"
     ]
    }
   ],
   "source": [
    "area = l * b\n",
    "print(area)"
   ]
  },
  {
   "cell_type": "markdown",
   "id": "527b2764-a8ee-4921-918d-73985fb424cc",
   "metadata": {},
   "source": [
    "Write a Python program that converts temperatures from Celsius to\n",
    "Fahrenheit. Take the temperature in Celsius as input, store it in a variable,\n",
    "convert it to Fahrenheit, and display the result."
   ]
  },
  {
   "cell_type": "code",
   "execution_count": 13,
   "id": "ade03632-5450-44f5-9d6e-cc2db05157bc",
   "metadata": {},
   "outputs": [
    {
     "name": "stdin",
     "output_type": "stream",
     "text": [
      "Enter the temperature in Celsius: 55\n"
     ]
    }
   ],
   "source": [
    "c = int(input(\"Enter the temperature in Celsius:\"))"
   ]
  },
  {
   "cell_type": "code",
   "execution_count": 14,
   "id": "df5c6734-405f-4cb4-b993-b4908a792e9a",
   "metadata": {},
   "outputs": [
    {
     "name": "stdout",
     "output_type": "stream",
     "text": [
      "131.0\n"
     ]
    }
   ],
   "source": [
    "# formula to convert celsius to fahrenheit\n",
    "f = (c * 9 / 5) + 32\n",
    "print(f)"
   ]
  },
  {
   "cell_type": "markdown",
   "id": "c6ac0d24-977b-46b1-b836-9a13df8f28c5",
   "metadata": {},
   "source": [
    "Write a Python program that takes a string as input and prints the length of\n",
    "the string."
   ]
  },
  {
   "cell_type": "code",
   "execution_count": 12,
   "id": "29ba8043-a608-4f3f-8d26-ca42a6176396",
   "metadata": {},
   "outputs": [
    {
     "name": "stdin",
     "output_type": "stream",
     "text": [
      "Enter a string: island\n"
     ]
    }
   ],
   "source": [
    "s = input(\"Enter a string:\")"
   ]
  },
  {
   "cell_type": "code",
   "execution_count": 19,
   "id": "401b286a-2c9f-4761-9d91-af573c46f3f4",
   "metadata": {},
   "outputs": [
    {
     "name": "stdout",
     "output_type": "stream",
     "text": [
      "The length of string is:  6\n"
     ]
    }
   ],
   "source": [
    "print(\"The length of string is: \", len(s))"
   ]
  },
  {
   "cell_type": "markdown",
   "id": "f217f0fd-432b-4cb6-9a98-4e0670b20c78",
   "metadata": {},
   "source": [
    "Create a program that takes a sentence from the user and counts the number\n",
    "of vowels (a, e, i, o, u) in the string."
   ]
  },
  {
   "cell_type": "code",
   "execution_count": 25,
   "id": "232f488d-4c6f-4ae6-95c4-881eb48abc71",
   "metadata": {},
   "outputs": [
    {
     "name": "stdin",
     "output_type": "stream",
     "text": [
      "Enter any sentence: this is data science pro course\n"
     ]
    }
   ],
   "source": [
    "sentence = input(\"Enter any sentence:\")"
   ]
  },
  {
   "cell_type": "code",
   "execution_count": 26,
   "id": "7c6d130c-0a47-49b2-88f2-3038e8d3bd89",
   "metadata": {},
   "outputs": [
    {
     "name": "stdout",
     "output_type": "stream",
     "text": [
      "11\n"
     ]
    }
   ],
   "source": [
    "# counting number of vowels in sentence\n",
    "vowels = ['a','e','i','o','u'];\n",
    "vowels_count = 0\n",
    "for letter in sentence:\n",
    "    if (letter.lower() in vowels):\n",
    "        vowels_count += 1\n",
    "        \n",
    "print(vowels_count)"
   ]
  },
  {
   "cell_type": "markdown",
   "id": "90680028-d57d-43ca-a4de-a6ba74314117",
   "metadata": {},
   "source": [
    "Given a string, reverse the order of characters using string slicing and print\n",
    "the reversed string."
   ]
  },
  {
   "cell_type": "code",
   "execution_count": 27,
   "id": "668ce5f4-5cb7-49b8-8e49-243bc5d87e1a",
   "metadata": {},
   "outputs": [
    {
     "name": "stdin",
     "output_type": "stream",
     "text": [
      "Enter a string: anaconda\n"
     ]
    }
   ],
   "source": [
    "s = input(\"Enter a string:\")"
   ]
  },
  {
   "cell_type": "code",
   "execution_count": 28,
   "id": "8328c8af-1186-4c27-a08c-48ce72a6c497",
   "metadata": {},
   "outputs": [
    {
     "name": "stdout",
     "output_type": "stream",
     "text": [
      "adnocana\n"
     ]
    }
   ],
   "source": [
    "print(s[-1::-1])"
   ]
  },
  {
   "cell_type": "markdown",
   "id": "46caefc0-7636-45ff-b1fa-e7fa996218f8",
   "metadata": {},
   "source": [
    "Write a program that takes a string as input and checks if it is a palindrome\n",
    "(reads the same forwards and backwards)."
   ]
  },
  {
   "cell_type": "code",
   "execution_count": 34,
   "id": "678aa388-1e40-43c5-87e4-87de174fcb02",
   "metadata": {},
   "outputs": [
    {
     "name": "stdin",
     "output_type": "stream",
     "text": [
      "Enter a string: palindrome\n"
     ]
    }
   ],
   "source": [
    "s = input(\"Enter a string:\")"
   ]
  },
  {
   "cell_type": "code",
   "execution_count": 35,
   "id": "e0ad8bab-a96f-4bcf-a202-55620fd111d7",
   "metadata": {},
   "outputs": [
    {
     "name": "stdout",
     "output_type": "stream",
     "text": [
      "False\n"
     ]
    }
   ],
   "source": [
    "rev_str = s[-1::-1]\n",
    "print(s == rev_str)"
   ]
  },
  {
   "cell_type": "markdown",
   "id": "fb564ad3-4243-412c-a723-bbaba2801bf8",
   "metadata": {},
   "source": [
    "Create a program that takes a string as input and removes all the spaces from\n",
    "it. Print the modified string without spaces."
   ]
  },
  {
   "cell_type": "code",
   "execution_count": 40,
   "id": "ffc07132-f012-46ad-b2cf-91623b75ed38",
   "metadata": {},
   "outputs": [
    {
     "name": "stdin",
     "output_type": "stream",
     "text": [
      "Enter a string: this is data science pro\n"
     ]
    }
   ],
   "source": [
    "s = input(\"Enter a string:\")"
   ]
  },
  {
   "cell_type": "code",
   "execution_count": 41,
   "id": "dfddbc49-a364-4893-b483-5341037e67fe",
   "metadata": {},
   "outputs": [
    {
     "name": "stdout",
     "output_type": "stream",
     "text": [
      "thisisdatasciencepro\n"
     ]
    }
   ],
   "source": [
    "str = s.replace(\" \",\"\")\n",
    "print(str)"
   ]
  }
 ],
 "metadata": {
  "kernelspec": {
   "display_name": "Python 3 (ipykernel)",
   "language": "python",
   "name": "python3"
  },
  "language_info": {
   "codemirror_mode": {
    "name": "ipython",
    "version": 3
   },
   "file_extension": ".py",
   "mimetype": "text/x-python",
   "name": "python",
   "nbconvert_exporter": "python",
   "pygments_lexer": "ipython3",
   "version": "3.10.8"
  },
  "toc-autonumbering": false,
  "toc-showcode": false,
  "toc-showmarkdowntxt": false
 },
 "nbformat": 4,
 "nbformat_minor": 5
}
